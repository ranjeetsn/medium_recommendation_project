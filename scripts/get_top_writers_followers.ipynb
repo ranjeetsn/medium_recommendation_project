{
 "cells": [
  {
   "cell_type": "code",
   "execution_count": 16,
   "metadata": {},
   "outputs": [],
   "source": [
    "from dotenv import load_dotenv\n",
    "import requests\n",
    "import os"
   ]
  },
  {
   "cell_type": "code",
   "execution_count": 17,
   "metadata": {},
   "outputs": [],
   "source": [
    "load_dotenv()\n",
    "api_key = os.getenv(\"X-RapidAPI-Key_Ranjeet\")"
   ]
  },
  {
   "cell_type": "code",
   "execution_count": 18,
   "metadata": {},
   "outputs": [
    {
     "data": {
      "text/plain": [
       "'467be93dcbmshd1c0bc71700aa7ap1fe0a9jsn71de21c81217'"
      ]
     },
     "execution_count": 18,
     "metadata": {},
     "output_type": "execute_result"
    }
   ],
   "source": [
    "api_key"
   ]
  },
  {
   "cell_type": "code",
   "execution_count": 19,
   "metadata": {},
   "outputs": [],
   "source": [
    "headers = {\n",
    "\t\"X-RapidAPI-Key\": api_key,\n",
    "\t\"X-RapidAPI-Host\": \"medium2.p.rapidapi.com\"\n",
    "}"
   ]
  },
  {
   "cell_type": "code",
   "execution_count": 20,
   "metadata": {},
   "outputs": [],
   "source": [
    "writers_username = ['actsusanli', 'williamkoehrsen', 'radecicdario', 'jamescalam', 'benjaminobi', 'andre-ye', 'rebeccalvickery', 'solclover', 'bgweber', '_jphwang']"
   ]
  },
  {
   "cell_type": "code",
   "execution_count": 21,
   "metadata": {},
   "outputs": [],
   "source": [
    "def get_user_id(username: str)->str:\n",
    "    \"\"\"\n",
    "    Return medium user_id for the input username\n",
    "    \n",
    "    Parameters:\n",
    "    - username (str): The medium username of the user\n",
    "\n",
    "    Returns:\n",
    "    - user_id (str): The unique user_id of the user\n",
    "    \"\"\"\n",
    "    \n",
    "    url = f\"https://medium2.p.rapidapi.com/user/id_for/{username}\"\n",
    "\n",
    "    response = requests.get(url, headers=headers)\n",
    "\n",
    "    try:\n",
    "        json_data = response.json()\n",
    "        print(json_data)\n",
    "        return json_data['id']\n",
    "    except Exception as e:\n",
    "        print(f\"Error parsing JSON: {e}\")\n",
    "        return None"
   ]
  },
  {
   "cell_type": "code",
   "execution_count": 22,
   "metadata": {},
   "outputs": [],
   "source": [
    "def user_id_list(username_list: list)->list:\n",
    "    \"\"\"\n",
    "    Return the list of user_ids for the list of usernames\n",
    "    \n",
    "    Parameters:\n",
    "    - username_list (list): The list of usernames\n",
    "\n",
    "    Returns:\n",
    "    - user_id_list (list): The list of user_ids for the usernames\n",
    "    \"\"\"\n",
    "    user_id_list = list()\n",
    "    for username in username_list:\n",
    "        user_id_list.append(get_user_id(username))\n",
    "\n",
    "    return user_id_list"
   ]
  },
  {
   "cell_type": "code",
   "execution_count": 23,
   "metadata": {},
   "outputs": [
    {
     "name": "stdout",
     "output_type": "stream",
     "text": [
      "{'id': '731d8566944a'}\n",
      "{'id': 'e2f299e30cb9'}\n",
      "{'id': '689ba04bb8be'}\n",
      "{'id': 'b9d77a4ca1d1'}\n",
      "{'id': '3a025d440e6b'}\n",
      "{'id': 'be743a65b006'}\n",
      "{'id': '8b7aca3e5b1c'}\n",
      "{'id': 'f77accd417be'}\n",
      "{'id': 'a80e1f69e782'}\n",
      "{'id': '964fe0870229'}\n"
     ]
    }
   ],
   "source": [
    "user_ids = user_id_list(writers_username)"
   ]
  },
  {
   "cell_type": "code",
   "execution_count": 24,
   "metadata": {},
   "outputs": [
    {
     "data": {
      "text/plain": [
       "['731d8566944a',\n",
       " 'e2f299e30cb9',\n",
       " '689ba04bb8be',\n",
       " 'b9d77a4ca1d1',\n",
       " '3a025d440e6b',\n",
       " 'be743a65b006',\n",
       " '8b7aca3e5b1c',\n",
       " 'f77accd417be',\n",
       " 'a80e1f69e782',\n",
       " '964fe0870229']"
      ]
     },
     "execution_count": 24,
     "metadata": {},
     "output_type": "execute_result"
    }
   ],
   "source": [
    "user_ids"
   ]
  },
  {
   "cell_type": "code",
   "execution_count": 25,
   "metadata": {},
   "outputs": [],
   "source": [
    "def get_followers_data(writer_username: str, after_follower_id: str = None, count:int = 25)->dict:\n",
    "    \"\"\"\n",
    "    For a writers username returns their followers user ids\n",
    "    \n",
    "    Parameters:\n",
    "    - writer_username (str): Username of the writer\n",
    "    - after_follower_id (int): Get the next 25 \n",
    "    \n",
    "    Return:\n",
    "    - writer_data (dict): \n",
    "    \"\"\"\n",
    "\n",
    "    url = f\"https://medium2.p.rapidapi.com/user/{writer_username}/followers\"\n",
    "\n",
    "    if after_follower_id is None:\n",
    "        querystring = {\"count\":str(count)}\n",
    "    else:\n",
    "        querystring = {\"count\":str(count), \"after\":after_follower_id}\n",
    "\n",
    "    response = requests.get(url, headers=headers, params=querystring)\n",
    "\n",
    "    try:\n",
    "        writer_data = response.json()\n",
    "        return writer_data\n",
    "    except Exception as e:\n",
    "        print(f\"Error parsing JSON: {e}\")\n",
    "        return None"
   ]
  },
  {
   "cell_type": "code",
   "execution_count": null,
   "metadata": {},
   "outputs": [],
   "source": [
    "def get_initial_followers_dict(writer_username: str)->int:\n",
    "    \"\"\"\n",
    "    For a writers username return their initial followers \n",
    "    \n",
    "    Parameters:\n",
    "    - writer_username (str): Username of writer\n",
    "\n",
    "    Return:\n",
    "    - writer_info (dict): \n",
    "    \"\"\""
   ]
  },
  {
   "cell_type": "code",
   "execution_count": 33,
   "metadata": {},
   "outputs": [
    {
     "name": "stdout",
     "output_type": "stream",
     "text": [
      "{'id': 'e2f299e30cb9', 'followers': ['000eb90e70d8', '049a24575f76', '0877b02b9a0b', '100322061945', '100438b5314b', '10049af30465', '1006052545cb', '100610f74a52', '1006fcaa4b66', '1007ddd29e89', '1008a5e736ed', '100afdc5ecbd', '100b9f5be601', '100c9736e528', '100f4897010b', '101006951d1d', '1011bcebfabb', '10126652eaef', '1014e0c5a83c', '1016f5e6079f', '1018f899dfc8', '101a8c27d2e1', '101bf81757f3', '101cc638bc10', '000eb90e70d8', '049a24575f76', '0877b02b9a0b', '100322061945', '100438b5314b', '10049af30465', '1006052545cb', '100610f74a52', '1006fcaa4b66', '1007ddd29e89', '1008a5e736ed', '100afdc5ecbd', '100b9f5be601', '100c9736e528', '100f4897010b', '101006951d1d', '1011bcebfabb', '10126652eaef', '1014e0c5a83c', '1016f5e6079f', '1018f899dfc8', '101a8c27d2e1', '101bf81757f3', '101cc638bc10'], 'count': 25, 'next': '101cc638bc10', 'total_followers': 38798}\n"
     ]
    }
   ],
   "source": [
    "output = {}\n",
    "after_follower_id = None\n",
    "for i in range(2):\n",
    "    writer_username = 'e2f299e30cb9'\n",
    "    if after_follower_id is None:\n",
    "        if len(output)==0:\n",
    "            output = get_followers_data(writer_username)\n",
    "            # print(output)\n",
    "            after_follower_id = output['next']\n",
    "        else:\n",
    "            response = get_followers_data(writer_username)\n",
    "            output[\"followers\"]+=response['followers']\n",
    "            after_follower_id = output['next']\n",
    "    else:\n",
    "        if len(output)==0:\n",
    "            output = get_followers_data(writer_username, after_follower_id)\n",
    "            after_follower_id = output['next']\n",
    "        else:\n",
    "            response = get_followers_data(writer_username)\n",
    "            output[\"followers\"]+=response['followers']\n",
    "            after_follower_id = output['next']\n",
    "\n",
    "print(output)\n",
    "    "
   ]
  },
  {
   "cell_type": "code",
   "execution_count": 32,
   "metadata": {},
   "outputs": [],
   "source": [
    "actsusanli_sample_users = output.copy()"
   ]
  },
  {
   "cell_type": "code",
   "execution_count": 34,
   "metadata": {},
   "outputs": [],
   "source": [
    "williamkoehrsen_sample_users = output.copy()"
   ]
  },
  {
   "cell_type": "code",
   "execution_count": 36,
   "metadata": {},
   "outputs": [
    {
     "data": {
      "text/plain": [
       "{'049a24575f76',\n",
       " '1007ddd29e89',\n",
       " '100afdc5ecbd',\n",
       " '1011bcebfabb',\n",
       " '10126652eaef',\n",
       " '1014e0c5a83c'}"
      ]
     },
     "execution_count": 36,
     "metadata": {},
     "output_type": "execute_result"
    }
   ],
   "source": [
    "set(actsusanli_sample_users['followers']).intersection(set(williamkoehrsen_sample_users['followers']))"
   ]
  }
 ],
 "metadata": {
  "kernelspec": {
   "display_name": "base",
   "language": "python",
   "name": "python3"
  },
  "language_info": {
   "codemirror_mode": {
    "name": "ipython",
    "version": 3
   },
   "file_extension": ".py",
   "mimetype": "text/x-python",
   "name": "python",
   "nbconvert_exporter": "python",
   "pygments_lexer": "ipython3",
   "version": "3.11.0"
  }
 },
 "nbformat": 4,
 "nbformat_minor": 2
}
